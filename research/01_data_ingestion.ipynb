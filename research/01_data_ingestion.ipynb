{
 "cells": [
  {
   "cell_type": "code",
   "execution_count": 1,
   "id": "5f83401f",
   "metadata": {},
   "outputs": [
    {
     "name": "stdout",
     "output_type": "stream",
     "text": [
      "Moved to: C:\\Users\\user\\anaconda3\\envs\\Chicken-disease-Classification-Project\n"
     ]
    }
   ],
   "source": [
    "import os\n",
    "\n",
    "project_path = r\"C:\\Users\\user\\anaconda3\\envs\\Chicken-disease-Classification-Project\"\n",
    "\n",
    "os.chdir(project_path)\n",
    "print(f\"Moved to: {os.getcwd()}\")\n"
   ]
  },
  {
   "cell_type": "code",
   "execution_count": 2,
   "id": "420489e0",
   "metadata": {},
   "outputs": [
    {
     "data": {
      "text/plain": [
       "'C:\\\\Users\\\\user\\\\anaconda3\\\\envs\\\\Chicken-disease-Classification-Project'"
      ]
     },
     "execution_count": 2,
     "metadata": {},
     "output_type": "execute_result"
    }
   ],
   "source": [
    "%pwd"
   ]
  },
  {
   "cell_type": "code",
   "execution_count": 80,
   "id": "8a9325d4",
   "metadata": {},
   "outputs": [],
   "source": [
    "#os.chdir(\"../\")"
   ]
  },
  {
   "cell_type": "code",
   "execution_count": 3,
   "id": "15ff0ed0",
   "metadata": {},
   "outputs": [],
   "source": [
    "from dataclasses import dataclass\n",
    "from pathlib import Path\n",
    "\n",
    "@dataclass(frozen=True)\n",
    "class DataIngestionConfig:\n",
    "    root_dir: Path\n",
    "    source_URL: str\n",
    "    local_data_file: Path\n",
    "    unzip_dir: Path\n",
    "    expected_hash: str = None"
   ]
  },
  {
   "cell_type": "code",
   "execution_count": 4,
   "id": "7151ce4a",
   "metadata": {},
   "outputs": [],
   "source": [
    "from cnnclassifier.constants import *\n",
    "import os\n",
    "import time\n",
    "import hashlib\n",
    "import zipfile\n",
    "from pathlib import Path\n",
    "from urllib import request\n",
    "from tenacity import retry, stop_after_attempt, wait_fixed\n",
    "from cnnclassifier.utils.common import  read_yaml, create_directories # Assumed utility file"
   ]
  },
  {
   "cell_type": "code",
   "execution_count": 5,
   "id": "5559d94e",
   "metadata": {},
   "outputs": [],
   "source": [
    "class ConfigurationManager:\n",
    "    def __init__(\n",
    "        self,\n",
    "        config_filepath=CONFIG_FILE_PATH,\n",
    "        params_filepath=PARAM_FILE_PATH\n",
    "    ):\n",
    "        self.config = read_yaml(config_filepath)\n",
    "        self.params = read_yaml(params_filepath)\n",
    "        create_directories([self.config['artifacts_root']])  # fix here\n",
    "\n",
    "    def get_data_ingestion_config(self) -> DataIngestionConfig:\n",
    "        config = self.config['data_ingestion']\n",
    "\n",
    "        create_directories([config['root_dir']])\n",
    "\n",
    "        data_ingestion_config = DataIngestionConfig(\n",
    "            root_dir=config['root_dir'],\n",
    "            source_URL=config['source_URL'],\n",
    "            local_data_file=config['local_data_file'],\n",
    "            unzip_dir=config['unzip_dir'],\n",
    "            expected_hash=config.get('expected_hash')  # optional\n",
    "        )\n",
    "\n",
    "        return data_ingestion_config\n"
   ]
  },
  {
   "cell_type": "code",
   "execution_count": 6,
   "id": "97e837bb",
   "metadata": {},
   "outputs": [],
   "source": [
    "#pip install tenacity\n"
   ]
  },
  {
   "cell_type": "code",
   "execution_count": 7,
   "id": "4391d3ad",
   "metadata": {},
   "outputs": [],
   "source": [
    "import os\n",
    "import zipfile\n",
    "from zipfile import BadZipFile\n",
    "from urllib import request\n",
    "from cnnclassifier import logger  # ✅ This is correct\n",
    "\n",
    "class DataIngestion:\n",
    "    def __init__(self, config: DataIngestionConfig):\n",
    "        self.config = config\n",
    "\n",
    "    def download_file(self):\n",
    "        file_path = self.config.local_data_file\n",
    "        url = self.config.source_URL\n",
    "\n",
    "        if os.path.exists(file_path):\n",
    "            try:\n",
    "                with zipfile.ZipFile(file_path, 'r') as zip_ref:\n",
    "                    corrupt = zip_ref.testzip()\n",
    "                    if corrupt:\n",
    "                        raise BadZipFile(f\"Corrupted file in zip: {corrupt}\")\n",
    "                logger.info(f\"File already exists and is a valid zip: {file_path}\")\n",
    "                return\n",
    "            except BadZipFile as e:\n",
    "                logger.warning(f\"Corrupted zip file found. Deleting: {file_path}. Reason: {e}\")\n",
    "                os.remove(file_path)\n",
    "\n",
    "        try:\n",
    "            filename, headers = request.urlretrieve(url=url, filename=file_path)\n",
    "            logger.info(f\"{filename} downloaded successfully with headers: \\n{headers}\")\n",
    "        except Exception as e:\n",
    "            logger.error(f\"Failed to download file from {url}. Error: {e}\")\n",
    "            raise\n",
    "\n",
    "    def extract_zip_file(self):\n",
    "        unzip_path = self.config.unzip_dir\n",
    "        os.makedirs(unzip_path, exist_ok=True)\n",
    "\n",
    "        try:\n",
    "            with zipfile.ZipFile(self.config.local_data_file, 'r') as zip_ref:\n",
    "                zip_ref.extractall(unzip_path)\n",
    "                logger.info(f\"Extracted {self.config.local_data_file} to {unzip_path}\")\n",
    "        except BadZipFile as e:\n",
    "            logger.error(f\"Failed to extract zip file. BadZipFile: {e}\")\n",
    "            raise\n"
   ]
  },
  {
   "cell_type": "code",
   "execution_count": 9,
   "id": "425074f5",
   "metadata": {},
   "outputs": [
    {
     "name": "stdout",
     "output_type": "stream",
     "text": [
      "[2025-05-23 16:40:03,496: INFO: common: YAML file: config\\config.yaml loaded successfully]\n",
      "[2025-05-23 16:40:03,507: INFO: common: YAML file: params.yaml loaded successfully]\n",
      "[2025-05-23 16:40:03,512: INFO: common: Created directory at: artifacts]\n",
      "[2025-05-23 16:40:03,517: INFO: common: Created directory at: artifacts/data_ingestion]\n",
      "[2025-05-23 16:40:03,526: WARNING: 1563970791: Corrupted zip file found. Deleting: artifacts/data_ingestion/data.zip. Reason: File is not a zip file]\n"
     ]
    },
    {
     "name": "stdout",
     "output_type": "stream",
     "text": [
      "[2025-05-23 16:40:35,333: INFO: 1563970791: artifacts/data_ingestion/data.zip downloaded successfully with headers: \n",
      "Connection: close\n",
      "Content-Length: 11634040\n",
      "Cache-Control: max-age=300\n",
      "Content-Security-Policy: default-src 'none'; style-src 'unsafe-inline'; sandbox\n",
      "Content-Type: application/zip\n",
      "ETag: \"e52d10bff92918b815bd546dd1fb6570b70f88c1a9d69d74174eb0497b016bcf\"\n",
      "Strict-Transport-Security: max-age=31536000\n",
      "X-Content-Type-Options: nosniff\n",
      "X-Frame-Options: deny\n",
      "X-XSS-Protection: 1; mode=block\n",
      "X-GitHub-Request-Id: 7C98:3C3127:19D2C3:37A739:683096D2\n",
      "Accept-Ranges: bytes\n",
      "Date: Fri, 23 May 2025 15:40:07 GMT\n",
      "Via: 1.1 varnish\n",
      "X-Served-By: cache-lcy-eglc8600028-LCY\n",
      "X-Cache: MISS\n",
      "X-Cache-Hits: 0\n",
      "X-Timer: S1748014807.225442,VS0,VE393\n",
      "Vary: Authorization,Accept-Encoding,Origin\n",
      "Access-Control-Allow-Origin: *\n",
      "Cross-Origin-Resource-Policy: cross-origin\n",
      "X-Fastly-Request-ID: 09ce8c3c84323a7b78b5e5ecffea677fb3488b71\n",
      "Expires: Fri, 23 May 2025 15:45:07 GMT\n",
      "Source-Age: 0\n",
      "\n",
      "]\n",
      "[2025-05-23 16:40:36,176: INFO: 1563970791: Extracted artifacts/data_ingestion/data.zip to artifacts/data_ingestion]\n"
     ]
    }
   ],
   "source": [
    "# pipeline\n",
    "try:\n",
    "    config = ConfigurationManager()\n",
    "    data_ingestion_config = config.get_data_ingestion_config()\n",
    "    data_ingestion = DataIngestion(config=data_ingestion_config)\n",
    "    data_ingestion.download_file()\n",
    "    data_ingestion.extract_zip_file()\n",
    "except Exception as e:\n",
    "    logger.exception(\"Error occurred during data ingestion pipeline\")\n",
    "    raise\n"
   ]
  },
  {
   "cell_type": "code",
   "execution_count": null,
   "id": "20a80cd2",
   "metadata": {},
   "outputs": [],
   "source": []
  }
 ],
 "metadata": {
  "kernelspec": {
   "display_name": "chicken",
   "language": "python",
   "name": "python3"
  },
  "language_info": {
   "codemirror_mode": {
    "name": "ipython",
    "version": 3
   },
   "file_extension": ".py",
   "mimetype": "text/x-python",
   "name": "python",
   "nbconvert_exporter": "python",
   "pygments_lexer": "ipython3",
   "version": "3.10.16"
  }
 },
 "nbformat": 4,
 "nbformat_minor": 5
}
