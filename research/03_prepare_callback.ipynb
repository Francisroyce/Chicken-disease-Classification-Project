{
 "cells": [
  {
   "cell_type": "code",
   "execution_count": 10,
   "id": "9a39dfae",
   "metadata": {},
   "outputs": [
    {
     "name": "stdout",
     "output_type": "stream",
     "text": [
      "Moved to: C:\\Users\\user\\anaconda3\\envs\\Chicken-disease-Classification-Project\n"
     ]
    }
   ],
   "source": [
    "import os\n",
    "\n",
    "project_path = r\"C:\\Users\\user\\anaconda3\\envs\\Chicken-disease-Classification-Project\"\n",
    "\n",
    "os.chdir(project_path)\n",
    "print(f\"Moved to: {os.getcwd()}\")\n"
   ]
  },
  {
   "cell_type": "code",
   "execution_count": 11,
   "id": "b9dafe77",
   "metadata": {},
   "outputs": [
    {
     "data": {
      "text/plain": [
       "'C:\\\\Users\\\\user\\\\anaconda3\\\\envs\\\\Chicken-disease-Classification-Project'"
      ]
     },
     "execution_count": 11,
     "metadata": {},
     "output_type": "execute_result"
    }
   ],
   "source": [
    "%pwd"
   ]
  },
  {
   "cell_type": "code",
   "execution_count": 17,
   "id": "035e19fe",
   "metadata": {},
   "outputs": [],
   "source": [
    "# entity\n",
    "from dataclasses import dataclass\n",
    "from pathlib import Path\n",
    "\n",
    "@dataclass(frozen=True)\n",
    "class PrepareCallbacksConfig:\n",
    "    root_dir: Path\n",
    "    tensorboard_root_log_dir: Path\n",
    "    checkpoint_model_filepath: Path"
   ]
  },
  {
   "cell_type": "code",
   "execution_count": 18,
   "id": "75af6297",
   "metadata": {},
   "outputs": [],
   "source": [
    "from cnnclassifier.constants import *\n",
    "from cnnclassifier.utils.common import  read_yaml, create_directories # Assumed utility file"
   ]
  },
  {
   "cell_type": "code",
   "execution_count": 19,
   "id": "7496f37e",
   "metadata": {},
   "outputs": [],
   "source": [
    "#configuration manager\n",
    "class ConfigurationManager:\n",
    "    def __init__(\n",
    "        self,\n",
    "        config_filepath=CONFIG_FILE_PATH,\n",
    "        params_filepath=PARAM_FILE_PATH\n",
    "    ):\n",
    "        self.config = read_yaml(config_filepath)\n",
    "        self.params = read_yaml(params_filepath)\n",
    "        create_directories([self.config['artifacts_root']])\n",
    "\n",
    "    def get_prepare_callback_config(self) -> PrepareCallbacksConfig:\n",
    "        config = self.config['prepare_callbacks']  # dictionary-style access\n",
    "\n",
    "        model_ckpt_dir = os.path.dirname(config['checkpoint_model_filepath'])\n",
    "\n",
    "        create_directories([\n",
    "            Path(model_ckpt_dir),\n",
    "            Path(config['tensorboard_root_log_dir'])\n",
    "        ])\n",
    "\n",
    "        prepare_callbacks_config = PrepareCallbacksConfig(\n",
    "            root_dir=Path(config['root_dir']),\n",
    "            tensorboard_root_log_dir=Path(config['tensorboard_root_log_dir']),\n",
    "            checkpoint_model_filepath=Path(config['checkpoint_model_filepath'])\n",
    "        )\n",
    "\n",
    "        return prepare_callbacks_config\n"
   ]
  },
  {
   "cell_type": "code",
   "execution_count": null,
   "id": "04ea7baa",
   "metadata": {},
   "outputs": [],
   "source": [
    "#components\n",
    "import os\n",
    "from datetime import datetime\n",
    "import tensorflow as tf\n",
    "from pathlib import Path\n",
    "import time\n",
    "\n",
    "\n",
    "class PrepCallbacks:\n",
    "    def __init__(self, config: PrepareCallbacksConfig):\n",
    "        self.config = config\n",
    "\n",
    "    @property\n",
    "    def _create_tb_callbacks(self) -> tf.keras.callbacks.TensorBoard:\n",
    "        \"\"\"Creates a TensorBoard callback with timestamped log directory.\"\"\"\n",
    "        timestamp = datetime.now().strftime(\"%Y%m%d-%H%M%S\")\n",
    "        tb_log_dir = os.path.join(self.config.tensorboard_root_log_dir, f\"tb_logs_{timestamp}\")\n",
    "        return tf.keras.callbacks.TensorBoard(log_dir=tb_log_dir)\n",
    "\n",
    "    @property\n",
    "    def _create_ckpt_callbacks(self) -> tf.keras.callbacks.ModelCheckpoint:\n",
    "        \"\"\"Creates a ModelCheckpoint callback.\"\"\"\n",
    "        return tf.keras.callbacks.ModelCheckpoint(\n",
    "            filepath=str(self.config.checkpoint_model_filepath),\n",
    "            save_best_only=True\n",
    "        )\n",
    "\n",
    "    def get_tb_ckpt_callbacks(self) -> list:\n",
    "        \"\"\"Returns a list of TensorBoard and ModelCheckpoint callbacks.\"\"\"\n",
    "        return [\n",
    "            self._create_tb_callbacks,\n",
    "            self._create_ckpt_callbacks\n",
    "        ]\n",
    "\n",
    "       "
   ]
  },
  {
   "cell_type": "code",
   "execution_count": 22,
   "id": "69b3c872",
   "metadata": {},
   "outputs": [
    {
     "name": "stdout",
     "output_type": "stream",
     "text": [
      "[2025-05-30 11:50:42,684: INFO: 4275068883: Starting configuration manager...]\n",
      "[2025-05-30 11:50:42,693: INFO: common: YAML file: config\\config.yaml loaded successfully]\n",
      "[2025-05-30 11:50:42,725: INFO: common: YAML file: params.yaml loaded successfully]\n",
      "[2025-05-30 11:50:42,753: INFO: common: Created directory at: artifacts]\n",
      "[2025-05-30 11:50:42,760: INFO: 4275068883: Fetching prepare callbacks configuration...]\n",
      "[2025-05-30 11:50:42,774: INFO: common: Created directory at: artifacts\\prepare_callbacks\\checkpoint_dir]\n",
      "[2025-05-30 11:50:42,777: INFO: common: Created directory at: artifacts\\prepare_callbacks\\tensorboard_log_dir]\n",
      "[2025-05-30 11:50:42,803: INFO: 4275068883: Initializing PrepCallbacks...]\n",
      "[2025-05-30 11:50:42,816: INFO: 4275068883: Getting TensorBoard and checkpoint callbacks list...]\n",
      "[2025-05-30 11:50:42,822: INFO: 4275068883: Pipeline setup completed successfully.]\n"
     ]
    }
   ],
   "source": [
    "#pipeline\n",
    "import logging\n",
    "\n",
    "logger = logging.getLogger(__name__)\n",
    "\n",
    "try:\n",
    "    logger.info(\"Starting configuration manager...\")\n",
    "    config = ConfigurationManager()\n",
    "\n",
    "    logger.info(\"Fetching prepare callbacks configuration...\")\n",
    "    prepare_callbacks_config = config.get_prepare_callback_config()\n",
    "\n",
    "    logger.info(\"Initializing PrepCallbacks...\")\n",
    "    prepare_callbacks = PrepCallbacks(config=prepare_callbacks_config)\n",
    "\n",
    "    logger.info(\"Getting TensorBoard and checkpoint callbacks list...\")\n",
    "    callback_list = prepare_callbacks.get_tb_ckpt_callbacks()\n",
    "\n",
    "    logger.info(\"Pipeline setup completed successfully.\")\n",
    "\n",
    "except Exception as e:\n",
    "    logger.exception(\"An error occurred during the pipeline setup.\")\n",
    "    raise\n"
   ]
  },
  {
   "cell_type": "code",
   "execution_count": null,
   "id": "86fca493",
   "metadata": {},
   "outputs": [],
   "source": []
  }
 ],
 "metadata": {
  "kernelspec": {
   "display_name": "chicken",
   "language": "python",
   "name": "python3"
  },
  "language_info": {
   "codemirror_mode": {
    "name": "ipython",
    "version": 3
   },
   "file_extension": ".py",
   "mimetype": "text/x-python",
   "name": "python",
   "nbconvert_exporter": "python",
   "pygments_lexer": "ipython3",
   "version": "3.10.16"
  }
 },
 "nbformat": 4,
 "nbformat_minor": 5
}
