{
 "cells": [
  {
   "cell_type": "code",
   "execution_count": 1,
   "id": "206fbbd1",
   "metadata": {},
   "outputs": [
    {
     "name": "stdout",
     "output_type": "stream",
     "text": [
      "Moved to: C:\\Users\\user\\anaconda3\\envs\\Chicken-disease-Classification-Project\n"
     ]
    }
   ],
   "source": [
    "import os\n",
    "\n",
    "project_path = r\"C:\\Users\\user\\anaconda3\\envs\\Chicken-disease-Classification-Project\"\n",
    "\n",
    "os.chdir(project_path)\n",
    "print(f\"Moved to: {os.getcwd()}\")\n"
   ]
  },
  {
   "cell_type": "code",
   "execution_count": 2,
   "id": "376eb6f8",
   "metadata": {},
   "outputs": [
    {
     "data": {
      "text/plain": [
       "'C:\\\\Users\\\\user\\\\anaconda3\\\\envs\\\\Chicken-disease-Classification-Project'"
      ]
     },
     "execution_count": 2,
     "metadata": {},
     "output_type": "execute_result"
    }
   ],
   "source": [
    "%pwd"
   ]
  },
  {
   "cell_type": "code",
   "execution_count": 3,
   "id": "780c6d8d",
   "metadata": {},
   "outputs": [],
   "source": [
    "from dataclasses import dataclass\n",
    "from pathlib import Path\n",
    "from typing import List\n",
    "\n",
    "@dataclass(frozen=True)\n",
    "class PrepareBaseModelConfig:\n",
    "    root_dir: Path                          # Not in YAML – likely set in code\n",
    "    base_model_dir: Path                    # Not in YAML – likely set in code\n",
    "    updated_base_model_dir: Path            # Not in YAML – likely set in code\n",
    "    params_image_size: List[int]            # From YAML → MODEL_PARAMS.IMAGE_SIZE\n",
    "    params_learning_rate: float             # From YAML → MODEL_PARAMS.LEARNING_RATE\n",
    "    params_include_top: bool                # From YAML → MODEL_PARAMS.INCLUDE_TOP\n",
    "    params_weights: str                     # From YAML → MODEL_PARAMS.WEIGHTS\n",
    "    params_classes: int "
   ]
  },
  {
   "cell_type": "code",
   "execution_count": 4,
   "id": "3f28327a",
   "metadata": {},
   "outputs": [],
   "source": [
    "from cnnclassifier.constants import *\n",
    "from cnnclassifier.utils.common import  read_yaml, create_directories # Assumed utility file"
   ]
  },
  {
   "cell_type": "code",
   "execution_count": 8,
   "id": "305f392d",
   "metadata": {},
   "outputs": [],
   "source": [
    "class ConfigurationManager:\n",
    "    def __init__(\n",
    "        self,\n",
    "        config_filepath=CONFIG_FILE_PATH,\n",
    "        params_filepath=PARAM_FILE_PATH\n",
    "    ):\n",
    "        self.config = read_yaml(config_filepath)\n",
    "        self.params = read_yaml(params_filepath)\n",
    "        create_directories([self.config['artifacts_root']])  # ✅ This is correct\n",
    "\n",
    "    def get_prepare_base_model_config(self) -> PrepareBaseModelConfig:\n",
    "        config = self.config['prepare_base_model']\n",
    "\n",
    "        create_directories([config['root_dir']])  # ✅ Treat as dictionary\n",
    "\n",
    "        prepare_base_model_config = PrepareBaseModelConfig(\n",
    "            root_dir=Path(config['root_dir']),\n",
    "            base_model_dir=Path(config['base_model_dir']),\n",
    "            updated_base_model_dir=Path(config['updated_base_model_dir']),\n",
    "            params_image_size=self.params['MODEL_PARAMS']['IMAGE_SIZE'],\n",
    "            params_learning_rate=self.params['MODEL_PARAMS']['LEARNING_RATE'],\n",
    "            params_include_top=self.params['MODEL_PARAMS']['INCLUDE_TOP'],\n",
    "            params_weights=self.params['MODEL_PARAMS']['WEIGHTS'],\n",
    "            params_classes=self.params['MODEL_PARAMS']['CLASSES']\n",
    "        )\n",
    "\n",
    "        return prepare_base_model_config"
   ]
  },
  {
   "cell_type": "code",
   "execution_count": 6,
   "id": "40488638",
   "metadata": {},
   "outputs": [],
   "source": [
    "# component\n",
    "import os\n",
    "import urllib.request as request\n",
    "from zipfile import ZipFile, BadZipFile\n",
    "import tensorflow as tf"
   ]
  },
  {
   "cell_type": "code",
   "execution_count": 7,
   "id": "757da984",
   "metadata": {},
   "outputs": [],
   "source": [
    "import tensorflow as tf\n",
    "from pathlib import Path\n",
    "\n",
    "class PrepareBaseModel:\n",
    "    def __init__(self, config):\n",
    "        self.config = config\n",
    "        self.model = None\n",
    "        self.full_model = None\n",
    "\n",
    "    @staticmethod\n",
    "    def _prepare_full_model(model, classes, freeze_all, freeze_till, learning_rate):\n",
    "        # Freeze all layers\n",
    "        if freeze_all:\n",
    "            for layer in model.layers:\n",
    "                layer.trainable = False\n",
    "        # Freeze up to a specific layer\n",
    "        elif freeze_till is not None and freeze_till > 0:\n",
    "            for layer in model.layers[:freeze_till]:\n",
    "                layer.trainable = False\n",
    "\n",
    "        # Add custom head\n",
    "        flatten_in = tf.keras.layers.Flatten()(model.output)\n",
    "        prediction = tf.keras.layers.Dense(classes, activation='softmax')(flatten_in)\n",
    "\n",
    "        full_model = tf.keras.models.Model(inputs=model.input, outputs=prediction)\n",
    "\n",
    "        # Compile\n",
    "        full_model.compile(\n",
    "            loss='categorical_crossentropy',\n",
    "            optimizer=tf.keras.optimizers.SGD(learning_rate=learning_rate),\n",
    "            metrics=['accuracy']\n",
    "        )\n",
    "\n",
    "        full_model.summary()\n",
    "        return full_model\n",
    "\n",
    "    def update_base_model(self):\n",
    "        self.full_model = PrepareBaseModel._prepare_full_model(\n",
    "            model=self.model,\n",
    "            classes=self.config.params_classes,\n",
    "            freeze_all=True,\n",
    "            freeze_till=None,\n",
    "            learning_rate=self.config.params_learning_rate\n",
    "        )\n",
    "\n",
    "        PrepareBaseModel.save_model(\n",
    "            path=self.config.updated_base_model_dir,\n",
    "            model=self.full_model\n",
    "        )\n",
    "\n",
    "    @staticmethod\n",
    "    def save_model(path: Path, model: tf.keras.Model):\n",
    "        model.save(path)\n"
   ]
  },
  {
   "cell_type": "code",
   "execution_count": null,
   "id": "caf09b5e",
   "metadata": {},
   "outputs": [],
   "source": [
    "#pipeline\n",
    "try:\n",
    "    config = ConfigurationManager()\n",
    "    prepare_base_model_config = config.get_prepare_base_model_config()\n",
    "    prepare_base_model = PrepareBaseModel(config=prepare_base_model_config)\n",
    "    prepare_base_model.get_base_model()\n",
    "    prepare_base_model.update_base_model()\n",
    "except Exception as e:\n",
    "    raise e"
   ]
  }
 ],
 "metadata": {
  "kernelspec": {
   "display_name": "chicken",
   "language": "python",
   "name": "python3"
  },
  "language_info": {
   "codemirror_mode": {
    "name": "ipython",
    "version": 3
   },
   "file_extension": ".py",
   "mimetype": "text/x-python",
   "name": "python",
   "nbconvert_exporter": "python",
   "pygments_lexer": "ipython3",
   "version": "3.10.16"
  }
 },
 "nbformat": 4,
 "nbformat_minor": 5
}
